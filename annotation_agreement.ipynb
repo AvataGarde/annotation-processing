{
 "cells": [
  {
   "cell_type": "code",
   "execution_count": null,
   "metadata": {},
   "outputs": [],
   "source": [
    "!pip install krippendorff tabulate"
   ]
  },
  {
   "cell_type": "code",
   "execution_count": 19,
   "metadata": {},
   "outputs": [
    {
     "name": "stdout",
     "output_type": "stream",
     "text": [
      "Emotion classes in dataset: ['Anger', 'Disgust', 'Sadness', 'Neutral', 'Joy', 'Fear', 'Surprise']\n",
      "\n",
      "Annotators: ['falalu.ng@gmail.com', 'msgadanya.cs@buk.edu.ng', 'rukynas08@gmail.com', 'nabilasunusi@gmail.com', 'maryameedrism@gmail.com']\n",
      "Number of annotations by each annotator:\n",
      "falalu.ng@gmail.com: 500\n",
      "msgadanya.cs@buk.edu.ng: 499\n",
      "rukynas08@gmail.com: 500\n",
      "nabilasunusi@gmail.com: 500\n",
      "maryameedrism@gmail.com: 500\n",
      "\n",
      "Number of annotators: 5\n",
      "Majority vote value: 3\n",
      "\n"
     ]
    }
   ],
   "source": [
    "lang = \"Hausa\" # write language\n",
    "batch = '1'   # leave 1 as it is if you are using only 1 batch\n",
    "# merge_annotators = '{\"merge1\": [\"meryembechar4@gmail.com\", \"khaoulafarouz@gmail.com\"]}'\n",
    "\n",
    "!python annotation_agreement.py \\\n",
    "  --input ../After_Annotation/Raw/{lang}/Batch_{batch}.csv \\\n",
    "  --output ../After_Annotation/Processed/{lang}/Batch_{batch} \\\n",
    "  --lang {lang} \\\n",
    "  --batch {batch}"
   ]
  }
 ],
 "metadata": {
  "kernelspec": {
   "display_name": "datascience",
   "language": "python",
   "name": "python3"
  },
  "language_info": {
   "codemirror_mode": {
    "name": "ipython",
    "version": 3
   },
   "file_extension": ".py",
   "mimetype": "text/x-python",
   "name": "python",
   "nbconvert_exporter": "python",
   "pygments_lexer": "ipython3",
   "version": "3.9.17"
  }
 },
 "nbformat": 4,
 "nbformat_minor": 2
}
